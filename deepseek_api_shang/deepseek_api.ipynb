{
 "cells": [
  {
   "cell_type": "code",
   "execution_count": 17,
   "metadata": {},
   "outputs": [
    {
     "name": "stdout",
     "output_type": "stream",
     "text": [
      "已保存html\n"
     ]
    }
   ],
   "source": [
    "import os \n",
    "from openai import OpenAI\n",
    "import datetime\n",
    "# 从环境变量读取deepseek api key\n",
    "\n",
    "api_key = os.getenv(\"DEEPSEEK_API_KEY\")\n",
    "\n",
    "if not api_key:\n",
    "    #raise ValueError(\"deepseek api key 不存在\")\n",
    "    api_key = \"sk-a8c08f52bfe54040b6eec26bb0333aa6\"\n",
    "\n",
    "# 初始化openai客户端\n",
    "\n",
    "now = datetime.datetime.now()\n",
    "\n",
    "\n",
    "client = OpenAI(\n",
    "    api_key=api_key,\n",
    "    base_url=\"https://api.deepseek.com\"\n",
    ")\n",
    "\n",
    "# response = client.chat.completions.create(\n",
    "#     model=\"deepseek-chat\",\n",
    "#     messages=[\n",
    "#         {\"role\": \"system\", \"content\": \"You are a helpful assistant\"},\n",
    "#         {\"role\": \"user\", \"content\": \"Hello\"},\n",
    "#     ],\n",
    "#     stream=False\n",
    "# )\n",
    "\n",
    "# print(response.choices[0].message.content)\n",
    "\n",
    "\n",
    "prompt = \"\"\"\n",
    "请帮我用HTML生成一个五子棋游戏，所有代码保存在一个HTML中。\n",
    "\"\"\"\n",
    "response = client.chat.completions.create(\n",
    "    model=\"deepseek-chat\",\n",
    "    messages=[\n",
    "        {\"role\": \"system\", \"content\": \"你是一个专业的web开发助手，擅长使用HTML CSS JAVASCRIPT。\"},\n",
    "        {\"role\": \"user\", \"content\": prompt},\n",
    "    ],\n",
    "    temperature=0.7,\n",
    "    stream=False\n",
    ")\n",
    "\n",
    "\n",
    "if response.choices and len(response.choices) > 0:\n",
    "    html_content = response.choices[0].message.content\n",
    "    with open(\"gomoku.html\", \"w\", encoding=\"utf-8\") as f:\n",
    "        f.write(html_content)\n",
    "    print(\"已保存html\")\n",
    "else:\n",
    "    print(\"response incorrect\")\n",
    "\n",
    "\n",
    "print(datetime.datetime.now() - now)\n"
   ]
  },
  {
   "cell_type": "code",
   "execution_count": null,
   "metadata": {},
   "outputs": [],
   "source": []
  }
 ],
 "metadata": {
  "kernelspec": {
   "display_name": "Python 3 (ipykernel)",
   "language": "python",
   "name": "python3"
  },
  "language_info": {
   "codemirror_mode": {
    "name": "ipython",
    "version": 3
   },
   "file_extension": ".py",
   "mimetype": "text/x-python",
   "name": "python",
   "nbconvert_exporter": "python",
   "pygments_lexer": "ipython3",
   "version": "3.10.18"
  }
 },
 "nbformat": 4,
 "nbformat_minor": 4
}